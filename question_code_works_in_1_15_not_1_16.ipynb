{
 "cells": [
  {
   "cell_type": "code",
   "execution_count": 1,
   "metadata": {},
   "outputs": [],
   "source": [
    "import pandas as pd\n",
    "import QuantLib as ql\n",
    "import numpy as np\n",
    "\n",
    "%matplotlib inline\n",
    "import matplotlib.pyplot as plt\n",
    "import datetime as dt"
   ]
  },
  {
   "cell_type": "code",
   "execution_count": 2,
   "metadata": {},
   "outputs": [],
   "source": [
    "quotes = {'FEDL01' : 0.0066,'USSO1Z' : 0.006445,\n",
    "          'USSO2Z' : 0.006455,'USSO3Z' : 0.00645,'USSOA' : 0.00675,\n",
    "          'USSOB' : 0.007,'USSOC' : 0.00724,'USSOD' : 0.007533,\n",
    "          'USSOE' : 0.00785,'USSOF' : 0.00814,'USSOI' : 0.00889,\n",
    "          'USSO1' : 0.00967,'USSO2' : 0.01221,'USSO3' : 0.01413,\n",
    "          'USSO4' : 0.01555,'USSO5' : 0.01672,'USSO10' : 0.02005,\n",
    "          'USSO12' : 0.0208,'USSO15' : 0.02152,'USSO20' : 0.02215,\n",
    "          'USSO25' : 0.02233,'USSO30' : 0.02234,'USSO40' : 0.02233}"
   ]
  },
  {
   "cell_type": "code",
   "execution_count": 3,
   "metadata": {},
   "outputs": [],
   "source": [
    "ql_date = ql.Date(21, 2, 2017)\n",
    "evaluation_date = ql_date\n",
    "ql.Settings.instance().evaluationDate = evaluation_date\n",
    "calendar = ql.UnitedStates()"
   ]
  },
  {
   "cell_type": "code",
   "execution_count": 4,
   "metadata": {},
   "outputs": [],
   "source": [
    "ff = ql.FedFunds()\n",
    "ois_settlement_days = 2 #\n",
    "ois_float_index = ff \n",
    "ois_paymentLag = 2"
   ]
  },
  {
   "cell_type": "code",
   "execution_count": 5,
   "metadata": {},
   "outputs": [],
   "source": [
    "ff_rate_helpers2 = [ql.DepositRateHelper(\n",
    "                    ql.QuoteHandle(ql.SimpleQuote(quotes['FEDL01'])),\n",
    "                    ql.Period(1, ql.Days), \n",
    "                    ff.fixingDays(), \n",
    "                    ff.fixingCalendar(),\n",
    "                    ff.businessDayConvention(),\n",
    "                    ff.endOfMonth() , \n",
    "                    ff.dayCounter() ) ]\n",
    "\n",
    "ff_rate_helpers2 += [ql.OISRateHelper(\n",
    "                    ois_settlement_days,\n",
    "                    tenor,\n",
    "                    ql.QuoteHandle(ql.SimpleQuote(rate)),\n",
    "                    ois_float_index,\n",
    "                    ql.YieldTermStructureHandle(),\n",
    "                    False,\n",
    "                    ois_paymentLag) \n",
    "                  for rate, tenor in [\n",
    "                        (quotes['USSO1Z'], ql.Period(1, ql.Weeks)),\n",
    "                        (quotes['USSO2Z'], ql.Period(2, ql.Weeks)),\n",
    "                        (quotes['USSO3Z'], ql.Period(3, ql.Weeks)),\n",
    "                        (quotes['USSOA'], ql.Period(1, ql.Months)),\n",
    "                        (quotes['USSOB'], ql.Period(2, ql.Months)),\n",
    "                        (quotes['USSOC'], ql.Period(3, ql.Months)),\n",
    "                        (quotes['USSOD'], ql.Period(4, ql.Months)),\n",
    "                        (quotes['USSOE'], ql.Period(5, ql.Months)),\n",
    "                        (quotes['USSOF'], ql.Period(6, ql.Months)),\n",
    "                        (quotes['USSOI'], ql.Period(9, ql.Months)),\n",
    "                        (quotes['USSO1'], ql.Period(1, ql.Years)),\n",
    "                        (quotes['USSO2'], ql.Period(2, ql.Years)),\n",
    "                        (quotes['USSO3'], ql.Period(3, ql.Years)),\n",
    "                        (quotes['USSO4'], ql.Period(4, ql.Years)),\n",
    "                        (quotes['USSO5'], ql.Period(5, ql.Years)),\n",
    "                        (quotes['USSO10'], ql.Period(10, ql.Years)),\n",
    "                        (quotes['USSO12'], ql.Period(12, ql.Years)),\n",
    "                        (quotes['USSO15'], ql.Period(15, ql.Years)),\n",
    "                        (quotes['USSO20'], ql.Period(20, ql.Years)),\n",
    "                        (quotes['USSO25'], ql.Period(25, ql.Years)),\n",
    "                        (quotes['USSO30'], ql.Period(30, ql.Years)),\n",
    "                        (quotes['USSO40'], ql.Period(40, ql.Years)) ] ]\n"
   ]
  },
  {
   "cell_type": "code",
   "execution_count": 6,
   "metadata": {},
   "outputs": [],
   "source": [
    "ois_curve2 = ql.PiecewiseLogCubicDiscount(\n",
    "                0, ql.UnitedStates(), ff_rate_helpers2, ql.Actual365Fixed())\n",
    "ois_curve2.enableExtrapolation()"
   ]
  },
  {
   "cell_type": "code",
   "execution_count": 7,
   "metadata": {},
   "outputs": [
    {
     "data": {
      "image/png": "[encoded data removed]",
      "text/plain": [
       "<Figure size 720x360 with 1 Axes>"
      ]
     },
     "metadata": {
      "needs_background": "light"
     },
     "output_type": "display_data"
    }
   ],
   "source": [
    "start_ql_date = ql_date\n",
    "end_ql_date = start_ql_date + ql.Period(50, ql.Years)\n",
    "\n",
    "swap_curve = ois_curve2\n",
    "default_plot_size = (10,5)\n",
    "\n",
    "dates = [start_ql_date + ql.Period(i,ql.Days) for i in range(0, end_ql_date-start_ql_date+1)]\n",
    "dates_ = [ dt.date(d.year(), d.month(), d.dayOfMonth()) for d in dates ]\n",
    "\n",
    "f = plt.figure(figsize = default_plot_size)\n",
    "ax = f.add_axes([0,0,1,1])\n",
    "ax.xaxis.grid(True, 'major', color=(0.9, 0.9, 0.9))\n",
    "ax.yaxis.grid(True, 'major', color=(0.9, 0.9, 0.9))\n",
    "\n",
    "y = [swap_curve.forwardRate(\n",
    "        d, calendar.advance(d, 1, ql.Days), ql.Actual360(), ql.Continuous).rate() \n",
    "         for d in dates]\n",
    "ax.plot_date(dates_, y, '-')\n",
    "\n",
    "ax.axhline(0.0, linewidth=1, color=(0.5,0.5,0.5))\n",
    "\n",
    "plt.show()"
   ]
  },
  {
   "cell_type": "markdown",
   "metadata": {},
   "source": [
    "\n",
    "### The last cell runs fine under QuantLib-Python Release 1.15, but returns the following error under 1.16.\n",
    "```\n",
    "---------------------------------------------------------------------------\n",
    "RuntimeError                              Traceback (most recent call last)\n",
    "<ipython-input-7-4f69c417b14a> in <module>\n",
    "     15 y = [swap_curve.forwardRate(\n",
    "     16         d, calendar.advance(d, 1, ql.Days), ql.Actual360(), ql.Continuous).rate() \n",
    "---> 17          for d in dates]\n",
    "     18 ax.plot_date(dates_, y, '-')\n",
    "     19 \n",
    "\n",
    "<ipython-input-7-4f69c417b14a> in <listcomp>(.0)\n",
    "     15 y = [swap_curve.forwardRate(\n",
    "     16         d, calendar.advance(d, 1, ql.Days), ql.Actual360(), ql.Continuous).rate() \n",
    "---> 17          for d in dates]\n",
    "     18 ax.plot_date(dates_, y, '-')\n",
    "     19 \n",
    "\n",
    "~/anaconda3/envs/finml/lib/python3.6/site-packages/QuantLib/QuantLib.py in forwardRate(self, *args)\n",
    "   4956 \n",
    "   4957     def forwardRate(self, *args):\n",
    "-> 4958         return _QuantLib.YieldTermStructure_forwardRate(self, *args)\n",
    "   4959     __swig_destroy__ = _QuantLib.delete_YieldTermStructure\n",
    "   4960 \n",
    "\n",
    "RuntimeError: convergence not reached after 99 iterations; last improvement 0.00106898, required accuracy 1e-12\n",
    "```\n"
   ]
  },
  {
   "cell_type": "code",
   "execution_count": 7,
   "metadata": {},
   "outputs": [
    {
     "ename": "RuntimeError",
     "evalue": "convergence not reached after 99 iterations; last improvement 0.00106898, required accuracy 1e-12",
     "output_type": "error",
     "traceback": [
      "\u001b[0;31m---------------------------------------------------------------------------\u001b[0m",
      "\u001b[0;31mRuntimeError\u001b[0m                              Traceback (most recent call last)",
      "\u001b[0;32m<ipython-input-7-4f69c417b14a>\u001b[0m in \u001b[0;36m<module>\u001b[0;34m\u001b[0m\n\u001b[1;32m     15\u001b[0m y = [swap_curve.forwardRate(\n\u001b[1;32m     16\u001b[0m         d, calendar.advance(d, 1, ql.Days), ql.Actual360(), ql.Continuous).rate() \n\u001b[0;32m---> 17\u001b[0;31m          for d in dates]\n\u001b[0m\u001b[1;32m     18\u001b[0m \u001b[0max\u001b[0m\u001b[0;34m.\u001b[0m\u001b[0mplot_date\u001b[0m\u001b[0;34m(\u001b[0m\u001b[0mdates_\u001b[0m\u001b[0;34m,\u001b[0m \u001b[0my\u001b[0m\u001b[0;34m,\u001b[0m \u001b[0;34m'-'\u001b[0m\u001b[0;34m)\u001b[0m\u001b[0;34m\u001b[0m\u001b[0;34m\u001b[0m\u001b[0m\n\u001b[1;32m     19\u001b[0m \u001b[0;34m\u001b[0m\u001b[0m\n",
      "\u001b[0;32m<ipython-input-7-4f69c417b14a>\u001b[0m in \u001b[0;36m<listcomp>\u001b[0;34m(.0)\u001b[0m\n\u001b[1;32m     15\u001b[0m y = [swap_curve.forwardRate(\n\u001b[1;32m     16\u001b[0m         d, calendar.advance(d, 1, ql.Days), ql.Actual360(), ql.Continuous).rate() \n\u001b[0;32m---> 17\u001b[0;31m          for d in dates]\n\u001b[0m\u001b[1;32m     18\u001b[0m \u001b[0max\u001b[0m\u001b[0;34m.\u001b[0m\u001b[0mplot_date\u001b[0m\u001b[0;34m(\u001b[0m\u001b[0mdates_\u001b[0m\u001b[0;34m,\u001b[0m \u001b[0my\u001b[0m\u001b[0;34m,\u001b[0m \u001b[0;34m'-'\u001b[0m\u001b[0;34m)\u001b[0m\u001b[0;34m\u001b[0m\u001b[0;34m\u001b[0m\u001b[0m\n\u001b[1;32m     19\u001b[0m \u001b[0;34m\u001b[0m\u001b[0m\n",
      "\u001b[0;32m~/anaconda3/envs/finml/lib/python3.6/site-packages/QuantLib/QuantLib.py\u001b[0m in \u001b[0;36mforwardRate\u001b[0;34m(self, *args)\u001b[0m\n\u001b[1;32m   4956\u001b[0m \u001b[0;34m\u001b[0m\u001b[0m\n\u001b[1;32m   4957\u001b[0m     \u001b[0;32mdef\u001b[0m \u001b[0mforwardRate\u001b[0m\u001b[0;34m(\u001b[0m\u001b[0mself\u001b[0m\u001b[0;34m,\u001b[0m \u001b[0;34m*\u001b[0m\u001b[0margs\u001b[0m\u001b[0;34m)\u001b[0m\u001b[0;34m:\u001b[0m\u001b[0;34m\u001b[0m\u001b[0;34m\u001b[0m\u001b[0m\n\u001b[0;32m-> 4958\u001b[0;31m         \u001b[0;32mreturn\u001b[0m \u001b[0m_QuantLib\u001b[0m\u001b[0;34m.\u001b[0m\u001b[0mYieldTermStructure_forwardRate\u001b[0m\u001b[0;34m(\u001b[0m\u001b[0mself\u001b[0m\u001b[0;34m,\u001b[0m \u001b[0;34m*\u001b[0m\u001b[0margs\u001b[0m\u001b[0;34m)\u001b[0m\u001b[0;34m\u001b[0m\u001b[0;34m\u001b[0m\u001b[0m\n\u001b[0m\u001b[1;32m   4959\u001b[0m     \u001b[0m__swig_destroy__\u001b[0m \u001b[0;34m=\u001b[0m \u001b[0m_QuantLib\u001b[0m\u001b[0;34m.\u001b[0m\u001b[0mdelete_YieldTermStructure\u001b[0m\u001b[0;34m\u001b[0m\u001b[0;34m\u001b[0m\u001b[0m\n\u001b[1;32m   4960\u001b[0m \u001b[0;34m\u001b[0m\u001b[0m\n",
      "\u001b[0;31mRuntimeError\u001b[0m: convergence not reached after 99 iterations; last improvement 0.00106898, required accuracy 1e-12"
     ]
    },
    {
     "data": {
      "image/png": "[encoded data removed]",
      "text/plain": [
       "<Figure size 720x360 with 1 Axes>"
      ]
     },
     "metadata": {
      "needs_background": "light"
     },
     "output_type": "display_data"
    }
   ],
   "source": [
    "start_ql_date = ql_date\n",
    "end_ql_date = start_ql_date + ql.Period(50, ql.Years)\n",
    "\n",
    "swap_curve = ois_curve2\n",
    "default_plot_size = (10,5)\n",
    "\n",
    "dates = [start_ql_date + ql.Period(i,ql.Days) for i in range(0, end_ql_date-start_ql_date+1)]\n",
    "dates_ = [ dt.date(d.year(), d.month(), d.dayOfMonth()) for d in dates ]\n",
    "\n",
    "f = plt.figure(figsize = default_plot_size)\n",
    "ax = f.add_axes([0,0,1,1])\n",
    "ax.xaxis.grid(True, 'major', color=(0.9, 0.9, 0.9))\n",
    "ax.yaxis.grid(True, 'major', color=(0.9, 0.9, 0.9))\n",
    "\n",
    "y = [swap_curve.forwardRate(\n",
    "        d, calendar.advance(d, 1, ql.Days), ql.Actual360(), ql.Continuous).rate() \n",
    "         for d in dates]\n",
    "ax.plot_date(dates_, y, '-')\n",
    "\n",
    "ax.axhline(0.0, linewidth=1, color=(0.5,0.5,0.5))\n",
    "\n",
    "plt.show()"
   ]
  },
  {
   "cell_type": "code",
   "execution_count": null,
   "metadata": {},
   "outputs": [],
   "source": []
  },
  {
   "cell_type": "code",
   "execution_count": null,
   "metadata": {},
   "outputs": [],
   "source": []
  },
  {
   "cell_type": "code",
   "execution_count": null,
   "metadata": {},
   "outputs": [],
   "source": []
  },
  {
   "cell_type": "code",
   "execution_count": null,
   "metadata": {},
   "outputs": [],
   "source": []
  }
 ],
 "metadata": {
  "kernelspec": {
   "display_name": "Python 3",
   "language": "python",
   "name": "python3"
  },
  "language_info": {
   "codemirror_mode": {
    "name": "ipython",
    "version": 3
   },
   "file_extension": ".py",
   "mimetype": "text/x-python",
   "name": "python",
   "nbconvert_exporter": "python",
   "pygments_lexer": "ipython3",
   "version": "3.6.8"
  }
 },
 "nbformat": 4,
 "nbformat_minor": 2
}
