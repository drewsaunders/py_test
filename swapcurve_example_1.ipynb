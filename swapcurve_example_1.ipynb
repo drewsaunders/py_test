{
 "cells": [
  {
   "cell_type": "markdown",
   "metadata": {},
   "source": [
    "# Swap-curve bootstrapping examples \n",
    "\\[The exposition follows -- as much as possible -- the approach shown in Chapters 8 and 9 of the Quantlib Python Cookbook (QPC) by Balaraman and Ballabio.\\]\n",
    "\n",
    "Part 1 will show how to perform a single-curve bootstrap of the USD Libor curve.  I will use data on overnight and certain term Libors, intermediate term FRA instruments, and 3M Libor swaps on the long end. In terms of Bbg symbols, I will be experimenting with these instruments: 'US00ON', 'US0001W', 'US0001M', 'US0003M', 'US0006M', 'US0012M', 'USSWAP1', 'USSWAP2', 'USSWAP3', 'USSWAP4', 'USSWAP5', 'USSWAP6', 'USSWAP7', 'USSWAP8', 'USSWAP9', 'USSWAP10', 'USSWAP11', 'USSWAP12', 'USSWAP15', 'USSWAP20', 'USSWAP25', 'USSWAP30', 'USSWAP40', 'USSWAP50', 'FRA0306', 'FRA0609', 'FRA0912', 'FRA1215', 'FRA1518', 'FRA1821', 'FRA2124'. (I will show what works and what does not based on some experimentation.)\n",
    "\n",
    "Part 2 will show how to perform a dual-curve bootstrap of the USD Libor swap curve using OIS discounting. The bootstap will be performed by first constructing an OIS discount curve using the Fed Funds rate, and overnight interest swaps at various tenors. I will be using Bbg data on these symbols: 'FEDL01', 'USSO1Z', 'USSO2Z', 'USSO3Z', 'USSOA', 'USSOB', 'USSOC', 'USSOD', 'USSOE', 'USSOF', 'USSOI', 'USSO1', 'USSO2', 'USSO3', 'USSO4', 'USSO5', 'USSO10'. One may note that the longest maturity among these is the 10Y OIS; so the discounting of long-dated Libor cash flows is done using a significant extrapolation. This owes to data limitations stemming from illiquidity of long-dated OIS. \n",
    "\n",
    "Part 3 will attempt to remedy the limitation of the OIS discounting curve noted above. Common practice is to use long-dated OIS-Libor basis swaps in conjunction with Libor swaps to construct synthetic OIS rates for the long maturities. I will show how this may be done. In addition to the data described above, I will be using data on some of these Bbg symbols: 'USBG12', 'USBG15', 'USBG20', 'USBG25', 'USBG30', 'USBG40', 'USBG50'. \n"
   ]
  },
  {
   "cell_type": "markdown",
   "metadata": {},
   "source": [
    "The following dictionary contains quotes from Bbg for instruments on 2017-02-21. (Note that Bbg quotes most of these in units of percentage points, so the values shown here are actually Bbg quotes times 100!)"
   ]
  },
  {
   "cell_type": "code",
   "execution_count": 1,
   "metadata": {
    "collapsed": true
   },
   "outputs": [],
   "source": [
    "text_date = '2017-02-21'\n",
    "quotes = {'US00ON' : 0.0068611, 'US0001W' : 0.0071444, 'US0001M' : 0.0077944,\n",
    "          'US0003M' : 0.0105344,'US0006M' : 0.0136239,'US0012M' : 0.0174539,\n",
    "          'USSWAP1' : 0.013239,'USSWAP2' : 0.015828,'USSWAP3' : 0.017784,\n",
    "          'USSWAP4' : 0.019295,'USSWAP5' : 0.02045,'USSWAP6' : 0.021438,\n",
    "          'USSWAP7' : 0.022258,'USSWAP8' : 0.022968,'USSWAP9' : 0.023563,\n",
    "          'USSWAP10' : 0.02408,'USSWAP11' : 0.024537,'USSWAP12' : 0.024945,\n",
    "          'USSWAP15' : 0.025763,'USSWAP20' : 0.026498,'USSWAP25' : 0.026745,\n",
    "          'USSWAP30' : 0.026818,'USSWAP40' : 0.026704,'USSWAP50' : 0.026465,\n",
    "          'FRA0306' : 0.012732,'FRA0609' : 0.01378,'FRA0912' : 0.015255,\n",
    "          'FRA1215' : 0.01652,'FRA1518' : 0.018011,'FRA1821' : 0.01875,\n",
    "          'FRA2124' : 0.0198,\n",
    "          'FEDL01' : 0.0066,'USSO1Z' : 0.006445,\n",
    "          'USSO2Z' : 0.006455,'USSO3Z' : 0.00645,'USSOA' : 0.00675,\n",
    "          'USSOB' : 0.007,'USSOC' : 0.00724,'USSOD' : 0.007533,\n",
    "          'USSOE' : 0.00785,'USSOF' : 0.00814,'USSOI' : 0.00889,\n",
    "          'USSO1' : 0.00967,'USSO2' : 0.01221,'USSO3' : 0.01413,\n",
    "          'USSO4' : 0.01555,'USSO5' : 0.01672,'USSO10' : 0.02005,\n",
    "          'USSO12' : 0.0208,'USSO15' : 0.02152,'USSO20' : 0.02215,\n",
    "          'USSO25' : 0.02233,'USSO30' : 0.02234,'USSO40' : 0.02233,\n",
    "          'USBG12' : 39.5,'USBG15' : 40.4,'USBG20' : 41.5,\n",
    "          'USBG25' : 42.4,'USBG30' : 42.75 }"
   ]
  },
  {
   "cell_type": "code",
   "execution_count": 2,
   "metadata": {
    "collapsed": true
   },
   "outputs": [],
   "source": [
    "import pandas as pd\n",
    "import QuantLib as ql\n",
    "import numpy as np"
   ]
  },
  {
   "cell_type": "markdown",
   "metadata": {},
   "source": [
    "## Part 1: Single curve bootstrap of USD Libor swap curve\n"
   ]
  },
  {
   "cell_type": "code",
   "execution_count": 3,
   "metadata": {
    "collapsed": true
   },
   "outputs": [],
   "source": [
    "evaluation_date = ql.Date(int(text_date[8:10]), int(text_date[5:7]), int(text_date[0:4]))\n",
    "ql.Settings.instance().evaluationDate = evaluation_date"
   ]
  },
  {
   "cell_type": "markdown",
   "metadata": {
    "collapsed": true
   },
   "source": [
    "### Set up the Libor deposit rate helpers.\n",
    "There are problems using 6M and 12M libor quotes, so I don't use them. \n",
    "First, the pillars induced by US0006 conflict with that induced by FRA0306; US0012 conflicts with FRA0912. This means that these instrument pairs cannot be used together when using the QL ```PiecewiseLogCubicDiscount()``` bootstrap procedure. \n",
    "Second, and more fundamentally, the 6M and 12M USD Libors seem to have significantly different risk characteristics than 3M Libor, so that using them together with these other instruments to construct a 3M Libor swap curve (or a discounting curve in a single curve bootstrap) screws up your curve at the short end. (This should not be surprising, as they are now considered risky assets, and these have longer terms to repayment!) This can be seen by using these instruments rather than FRA0306 and FRA0912 in the bootstrap. (FRA0609 can be left in the procedure, as it does not induce a pillar conflict; and leaving it in exacerbates the pathology, as it induces a pillar midway between the 6M and the 12M deposits!)"
   ]
  },
  {
   "cell_type": "code",
   "execution_count": 4,
   "metadata": {
    "collapsed": true
   },
   "outputs": [],
   "source": [
    "# I take attributes for overnight and term Libor deposits from QL defaults for 3M Libor:\n",
    "# (C++ users might be able to avoid this by using DailyTenorUSDLibor(); this has been implemented in Python QL SWIG, yet.) \n",
    "libor3 = ql.USDLibor(ql.Period(3,ql.Months))\n",
    "#libor_deposit_day_count = libor3.dayCounter()\n",
    "#libor_deposit_settlement_days = libor3.fixingDays()\n",
    "#libor_deposit_adjustment = libor3.businessDayConvention() \n",
    "#libor_deposit_calendar = libor3.fixingCalendar() \n",
    "#libor_deposit_end_of_month = libor3.endOfMonth() "
   ]
  },
  {
   "cell_type": "code",
   "execution_count": 5,
   "metadata": {},
   "outputs": [],
   "source": [
    "# Start with ON libor rate, US00ON; assume 0 fixing days\n",
    "rate_helpers1 = [ql.DepositRateHelper(\n",
    "                ql.QuoteHandle(ql.SimpleQuote(quotes['US00ON'])),\n",
    "                ql.Period(1, ql.Days), \n",
    "                0, \n",
    "                libor3.fixingCalendar(),\n",
    "                libor3.businessDayConvention(),\n",
    "                libor3.endOfMonth(), \n",
    "                libor3.dayCounter() ) ]"
   ]
  },
  {
   "cell_type": "code",
   "execution_count": 6,
   "metadata": {
    "collapsed": true
   },
   "outputs": [],
   "source": [
    "# Next, add the libor term rates up to 3M\n",
    "rate_helpers1 += [ql.DepositRateHelper(ql.QuoteHandle(ql.SimpleQuote(rate)),\n",
    "                        maturity, \n",
    "                        libor3.fixingDays(), \n",
    "                        libor3.fixingCalendar(),\n",
    "                        libor3.businessDayConvention(),\n",
    "                        libor3.endOfMonth(), \n",
    "                        libor3.dayCounter() )\n",
    "                   for rate, maturity in [\n",
    "                       (quotes['US0001W'], ql.Period(1, ql.Weeks)),\n",
    "                       (quotes['US0001M'], ql.Period(1, ql.Months)),\n",
    "                       (quotes['US0003M'], ql.Period(3, ql.Months))] ]"
   ]
  },
  {
   "cell_type": "markdown",
   "metadata": {},
   "source": [
    "### Set up the FRA rate helpers.\n",
    "\n",
    "We cannot use both FRA0912 and USSWAP1, as these induce a pillar conflict in the ```ql.PiecewiseLogCubicDiscount()``` bootstrap procedure. \n",
    "Similarly, 'FRA2124' induces a confict with 'USSWAP2'. Thus, we must make some choices with respect to which instruments to utilize in our bootstrap. Unlike the 6M and 12M deposits, however, these choice don't seem to matter much. This is evidence that these instruments have consistent risk properties. \n",
    "\n",
    "Note: the version of ```FraRateHelper()``` that takes ```ql.USDLibor()``` as an input (used here) is a great convenience compared with the one requiring inputs ```settlement_days, Calendar, BusinessDayConvention, end_of_month_bool```, and ```DayCounter```\n",
    "that I have used previously."
   ]
  },
  {
   "cell_type": "code",
   "execution_count": 7,
   "metadata": {
    "collapsed": true
   },
   "outputs": [],
   "source": [
    "# trying the implementation of FRARateHelper() that takes ql.libor() as an input...\n",
    "rate_helpers1 += [ql.FraRateHelper(ql.QuoteHandle(ql.SimpleQuote(rate)),\n",
    "                             months_to_start, ql.USDLibor(ql.Period(3,ql.Months))) \n",
    "            for rate, months_to_start in [\n",
    "                (quotes['FRA0306'], 3), \n",
    "                (quotes['FRA0609'], 6),\n",
    "                (quotes['FRA0912'], 9),\n",
    "                (quotes['FRA1215'], 12),\n",
    "                (quotes['FRA1518'], 15),\n",
    "                (quotes['FRA1821'], 18)] ]"
   ]
  },
  {
   "cell_type": "markdown",
   "metadata": {
    "collapsed": true
   },
   "source": [
    "### Set up the swap rate helpers.\n",
    "In the same way that the pillars induced by FRA2124 and USSWAP2 conflict, those of FRA0912 and USSWAP1 conflict. Therefore, I do not use the 1Y swap. \n"
   ]
  },
  {
   "cell_type": "code",
   "execution_count": 8,
   "metadata": {},
   "outputs": [],
   "source": [
    "swap_calendar = ql.UnitedStates()\n",
    "#swap_settlement_days = 2\n",
    "swap_fixed_leg_frequency = ql.Semiannual\n",
    "swap_fixed_leg_day_count = ql.Thirty360() \n",
    "swap_fixed_leg_adjustment = ql.ModifiedFollowing # aka \"business convention\", affects how day counts are determined from the calendar\n",
    "# most of the floating leg terms are embedded in spec'n of the index, below...\n",
    "swap_float_index = ql.USDLibor(ql.Period(3,ql.Months))\n"
   ]
  },
  {
   "cell_type": "code",
   "execution_count": 9,
   "metadata": {
    "collapsed": true
   },
   "outputs": [],
   "source": [
    "rate_helpers1 += [ql.SwapRateHelper(ql.QuoteHandle(ql.SimpleQuote(rate)),\n",
    "                              ql.Period(tenor, ql.Years), swap_calendar,\n",
    "                              swap_fixed_leg_frequency, swap_fixed_leg_adjustment,\n",
    "                              swap_fixed_leg_day_count, swap_float_index )\n",
    "            for rate, tenor in [(quotes['USSWAP2'], 2),\n",
    "                                (quotes['USSWAP3'], 3),\n",
    "                                (quotes['USSWAP4'], 4),\n",
    "                                (quotes['USSWAP5'], 5),\n",
    "                                (quotes['USSWAP6'], 6),\n",
    "                                (quotes['USSWAP7'], 7),\n",
    "                                (quotes['USSWAP8'], 8),\n",
    "                                (quotes['USSWAP9'], 9),\n",
    "                                (quotes['USSWAP10'], 10),\n",
    "                                (quotes['USSWAP11'], 11),\n",
    "                                (quotes['USSWAP12'], 12),\n",
    "                                (quotes['USSWAP15'], 15),\n",
    "                                (quotes['USSWAP20'], 20),\n",
    "                                (quotes['USSWAP25'], 25),\n",
    "                                (quotes['USSWAP30'], 30),\n",
    "                                (quotes['USSWAP40'], 40),\n",
    "                                (quotes['USSWAP50'], 50)] ]\n"
   ]
  },
  {
   "cell_type": "markdown",
   "metadata": {},
   "source": [
    "### Bootstrap\n",
    "Taking at face value the claim on page 63 of QPC that \"\\[t\\]he day counter chosen is not of much consequence, as it is only used internally to convert dates into times\"..."
   ]
  },
  {
   "cell_type": "code",
   "execution_count": 10,
   "metadata": {
    "collapsed": true
   },
   "outputs": [],
   "source": [
    "swap_curve1 = ql.PiecewiseLogCubicDiscount(\n",
    "                0, ql.UnitedStates(), rate_helpers1, ql.Actual365Fixed())\n",
    "swap_curve1.enableExtrapolation()"
   ]
  },
  {
   "cell_type": "markdown",
   "metadata": {},
   "source": [
    "### Examine the curves"
   ]
  },
  {
   "cell_type": "code",
   "execution_count": 11,
   "metadata": {
    "collapsed": true
   },
   "outputs": [],
   "source": [
    "%matplotlib inline\n",
    "#import utils\n",
    "#from matplotlib.ticker import FuncFormatter\n",
    "#import numpy as np\n",
    "import matplotlib.pyplot as plt\n",
    "import datetime as dt"
   ]
  },
  {
   "cell_type": "code",
   "execution_count": 12,
   "metadata": {
    "collapsed": true
   },
   "outputs": [],
   "source": [
    "def plot_swap_curve(swap_curve, start_ql_date, end_ql_date, \n",
    "                        what_to_plot = 'zeros'):\n",
    "    '''\n",
    "    what to plot can be a list containing one or more elements of \n",
    "    ['zeros', 'forwards', 'discounts']; or it can be just one of  \n",
    "    the elements of this list. (But note that plotting 'discounts' \n",
    "    together with 'zeros' or 'forwards' doesn't come out too well!)\n",
    "    '''\n",
    "    default_plot_size = (10,5)\n",
    "    \n",
    "    dates = [start_ql_date + ql.Period(i,ql.Days) for i in range(0, end_ql_date-start_ql_date+1)]\n",
    "    dates_ = [ dt.date(d.year(), d.month(), d.dayOfMonth()) for d in dates ]\n",
    "    \n",
    "    f = plt.figure(figsize = default_plot_size)\n",
    "    ax = f.add_axes([0,0,1,1])\n",
    "    ax.xaxis.grid(True, 'major', color=(0.9, 0.9, 0.9))\n",
    "    ax.yaxis.grid(True, 'major', color=(0.9, 0.9, 0.9))\n",
    "    \n",
    "    if 'zeros' in what_to_plot:\n",
    "        y = [swap_curve.zeroRate(d, ql.Actual360(), \n",
    "                                      ql.Continuous).rate() for d in dates]\n",
    "        ax.plot_date(dates_, y, '-')\n",
    "    if 'forwards' in what_to_plot:\n",
    "        y = [swap_curve.forwardRate(\n",
    "            d, calendar.advance(d, 1, ql.Days), ql.Actual360(), ql.Continuous).rate() \n",
    "             for d in dates]\n",
    "        ax.plot_date(dates_, y, '-')\n",
    "    if 'discounts' in what_to_plot:\n",
    "        y = [swap_curve.discount(d) \n",
    "             for d in dates]\n",
    "        ax.plot_date(dates_, y, '-')\n",
    "    \n",
    "    ax.axhline(0.0, linewidth=1, color=(0.5,0.5,0.5))\n",
    "    \n",
    "    plt.show()\n",
    "#\n"
   ]
  },
  {
   "cell_type": "code",
   "execution_count": 13,
   "metadata": {
    "collapsed": true
   },
   "outputs": [],
   "source": [
    "ql_date = ql.Date(int(text_date[8:10]), int(text_date[5:7]), \n",
    "                          int(text_date[0:4]) )\n",
    "ql.Settings.instance().evaluationDate = ql_date\n",
    "spot = ql_date\n",
    "\n",
    "calendar = ql.UnitedStates()"
   ]
  },
  {
   "cell_type": "code",
   "execution_count": 14,
   "metadata": {
    "collapsed": true
   },
   "outputs": [],
   "source": [
    "start_ql_date = ql_date\n",
    "end_ql_date = start_ql_date + ql.Period(50, ql.Years)"
   ]
  },
  {
   "cell_type": "code",
   "execution_count": 15,
   "metadata": {},
   "outputs": [
    {
     "data": {
      "image/png": "[encoded data removed]",
      "text/plain": [
       "<matplotlib.figure.Figure at 0xa16f898>"
      ]
     },
     "metadata": {},
     "output_type": "display_data"
    }
   ],
   "source": [
    "plot_swap_curve(swap_curve1, start_ql_date, end_ql_date, \n",
    "                        what_to_plot = ['discounts'])"
   ]
  },
  {
   "cell_type": "code",
   "execution_count": 16,
   "metadata": {},
   "outputs": [
    {
     "data": {
      "image/png": "[encoded data removed]",
      "text/plain": [
       "<matplotlib.figure.Figure at 0x9761550>"
      ]
     },
     "metadata": {},
     "output_type": "display_data"
    }
   ],
   "source": [
    "plot_swap_curve(swap_curve1, start_ql_date, end_ql_date, \n",
    "                        what_to_plot = ['zeros','forwards'])"
   ]
  },
  {
   "cell_type": "code",
   "execution_count": 17,
   "metadata": {},
   "outputs": [
    {
     "data": {
      "image/png": "[encoded data removed]",
      "text/plain": [
       "<matplotlib.figure.Figure at 0xa32eac8>"
      ]
     },
     "metadata": {},
     "output_type": "display_data"
    }
   ],
   "source": [
    "# a close-up in the short end...\n",
    "end_ql_date2 = start_ql_date + ql.Period(1, ql.Years)\n",
    "plot_swap_curve(swap_curve1, start_ql_date, end_ql_date2, \n",
    "                        what_to_plot = ['zeros','forwards'])"
   ]
  },
  {
   "cell_type": "markdown",
   "metadata": {},
   "source": [
    "### Let's show that a par swap has NPV of zero at initiation.\n",
    "I follow Ch.19 of QPC to define a fixed-for-floating IRS and price it using the constructed curve as 3M Libor forecaster. The difference is that I will put the fixed rate equal to the par rate.\n",
    "The par fixed rate for a 10Y fixed for 3M Libor IRS was 2.408% on 2017-02-21. \n",
    "\n",
    "(Thanks to QuantLib-users newsgroup participants for help tracking down a bug in my specification of standard swap terms!)"
   ]
  },
  {
   "cell_type": "code",
   "execution_count": 18,
   "metadata": {},
   "outputs": [],
   "source": [
    "swap_curve1_handle = ql.YieldTermStructureHandle(swap_curve1)\n",
    "swap_float_index1 = ql.USDLibor(ql.Period(3,ql.Months), swap_curve1_handle)\n",
    "\n",
    "settle_date1 = calendar.advance(evaluation_date, 2, ql.Days)\n",
    "maturity_date1 = calendar.advance(settle_date1, 10, ql.Years) \n",
    "fixed_leg_tenor = ql.Period(6, ql.Months)\n",
    "business_convention = ql.ModifiedFollowing\n",
    "termination_business_convention = ql.ModifiedFollowing\n",
    "fixed_schedule1 = ql.Schedule(settle_date1, maturity_date1, \n",
    "                            fixed_leg_tenor, calendar,\n",
    "                            business_convention, termination_business_convention, \n",
    "                            ql.DateGeneration.Backward, False)\n",
    "float_leg_tenor = ql.Period(3, ql.Months)\n",
    "float_schedule1 = ql.Schedule(settle_date1, maturity_date1, \n",
    "                            float_leg_tenor, calendar,\n",
    "                            business_convention, termination_business_convention, \n",
    "                            ql.DateGeneration.Backward, False)\n",
    "notional = 10000000\n",
    "fixed_rate1 = quotes['USSWAP10'] \n",
    "fixed_leg_daycount = ql.Thirty360()\n",
    "float_spread1 = 0.000 \n",
    "float_leg_daycount = ql.Actual360()\n",
    "\n",
    "irs1 = ql.VanillaSwap(ql.VanillaSwap.Payer, notional, fixed_schedule1,\n",
    "                    fixed_rate1, fixed_leg_daycount, float_schedule1,\n",
    "                    swap_float_index1, float_spread1, \n",
    "                     float_leg_daycount)\n",
    "\n",
    "pricing_engine1 = ql.DiscountingSwapEngine(swap_curve1_handle)\n",
    "irs1.setPricingEngine(pricing_engine1)"
   ]
  },
  {
   "cell_type": "code",
   "execution_count": 19,
   "metadata": {},
   "outputs": [
    {
     "name": "stdout",
     "output_type": "stream",
     "text": [
      "Net Present Value   :                0.000\n",
      "Fair Spread         :               -0.000\n",
      "Fair Rate           :                0.024\n",
      "Fixed Leg BPS       :            -8945.141\n",
      "Floating Leg BPS    :             9101.401\n"
     ]
    }
   ],
   "source": [
    "print(\"%-20s: %20.3f\" % (\"Net Present Value\", irs1.NPV()))\n",
    "print(\"%-20s: %20.3f\" % (\"Fair Spread\", irs1.fairSpread()))\n",
    "print(\"%-20s: %20.3f\" % (\"Fair Rate\", irs1.fairRate()))\n",
    "print(\"%-20s: %20.3f\" % (\"Fixed Leg BPS\", irs1.fixedLegBPS()))\n",
    "print(\"%-20s: %20.3f\" % (\"Floating Leg BPS\", irs1.floatingLegBPS()))"
   ]
  },
  {
   "cell_type": "markdown",
   "metadata": {},
   "source": [
    "### N.B. Continuous compounding makes a big difference when computing zero rates!\n",
    "QPC constructs forward curves in Chs.8 and 9 by specifying simple compounding (via ```ql.Simple()```). This is essentially irrelevant when computing instantaneous (actually, 1-day) forward rates as we are doing here. BUT (and this set me back some hours when I was comparing to graphs that Bbg spits out!) it makes a big difference when constructing zero rates; this is especially so on the long end. To wit: "
   ]
  },
  {
   "cell_type": "code",
   "execution_count": 20,
   "metadata": {},
   "outputs": [
    {
     "data": {
      "text/plain": [
       "<matplotlib.lines.Line2D at 0xbd91b38>"
      ]
     },
     "execution_count": 20,
     "metadata": {},
     "output_type": "execute_result"
    },
    {
     "data": {
      "image/png": "[encoded data removed]",
      "text/plain": [
       "<matplotlib.figure.Figure at 0xa331908>"
      ]
     },
     "metadata": {},
     "output_type": "display_data"
    }
   ],
   "source": [
    "dates = [start_ql_date + ql.Period(i,ql.Days) for i in range(0, end_ql_date-start_ql_date+1)]\n",
    "dates_ = [ dt.date(d.year(), d.month(), d.dayOfMonth()) for d in dates ]\n",
    "\n",
    "default_plot_size = (10,6)\n",
    "f = plt.figure(figsize = default_plot_size)\n",
    "ax = f.add_axes([0,0,1,1])\n",
    "ax.xaxis.grid(True, 'major', color=(0.9, 0.9, 0.9))\n",
    "ax.yaxis.grid(True, 'major', color=(0.9, 0.9, 0.9))\n",
    "\n",
    "zero_continuous = [swap_curve1.zeroRate(d, ql.Actual360(), ql.Continuous).rate()\n",
    "                  for d in dates]\n",
    "ax.plot_date(dates_, zero_continuous, '-')\n",
    "\n",
    "zero_simple = [swap_curve1.zeroRate(d, ql.Actual360(), ql.Simple).rate() \n",
    "         for d in dates]\n",
    "ax.plot_date(dates_, zero_simple, '-')\n",
    "ax.axhline(0.0, linewidth=1, color=(0.5,0.5,0.5))"
   ]
  },
  {
   "cell_type": "markdown",
   "metadata": {},
   "source": [
    "### Just for the record\n",
    "Let's see what happens when we try to use the 6M and 12M Libors."
   ]
  },
  {
   "cell_type": "code",
   "execution_count": 21,
   "metadata": {
    "collapsed": true
   },
   "outputs": [],
   "source": [
    "rate_helpers1_1 = [ql.DepositRateHelper(\n",
    "                ql.QuoteHandle(ql.SimpleQuote(quotes['US00ON'])),\n",
    "                ql.Period(1, ql.Days), \n",
    "                0, \n",
    "                libor3.fixingCalendar(),\n",
    "                libor3.businessDayConvention(),\n",
    "                libor3.endOfMonth(), \n",
    "                libor3.dayCounter()  ) ]\n",
    "\n",
    "rate_helpers1_1 += [ql.DepositRateHelper(ql.QuoteHandle(ql.SimpleQuote(rate)),\n",
    "                                maturity, \n",
    "                                libor3.fixingDays(), \n",
    "                                libor3.fixingCalendar(),\n",
    "                                libor3.businessDayConvention(),\n",
    "                                libor3.endOfMonth(), \n",
    "                                libor3.dayCounter()  )\n",
    "           for rate, maturity in [\n",
    "               (quotes['US0001W'], ql.Period(1, ql.Weeks)),\n",
    "               (quotes['US0001M'], ql.Period(1, ql.Months)),\n",
    "               (quotes['US0003M'], ql.Period(3, ql.Months)),\n",
    "               (quotes['US0006M'], ql.Period(6, ql.Months)), # CHANGED HERE!\n",
    "               (quotes['US0012M'], ql.Period(12, ql.Months))] ] # CHANGED HERE!\n",
    "\n",
    "rate_helpers1_1 += [ql.FraRateHelper(ql.QuoteHandle(ql.SimpleQuote(rate)),\n",
    "                             months_to_start, ql.USDLibor(ql.Period(3,ql.Months))) \n",
    "            for rate, months_to_start in [\n",
    "                #(quotes['FRA0306'], 3), CHANGED HERE!\n",
    "                (quotes['FRA0609'], 6),\n",
    "                #(quotes['FRA0912'], 9), CHANGED HERE!\n",
    "                (quotes['FRA1215'], 12),\n",
    "                (quotes['FRA1518'], 15),\n",
    "                (quotes['FRA1821'], 18)] ]\n",
    "\n",
    "rate_helpers1_1 += [ql.SwapRateHelper(ql.QuoteHandle(ql.SimpleQuote(rate)),\n",
    "                              ql.Period(tenor, ql.Years), swap_calendar,\n",
    "                              swap_fixed_leg_frequency, swap_fixed_leg_adjustment,\n",
    "                              swap_fixed_leg_day_count, swap_float_index )\n",
    "            for rate, tenor in [(quotes['USSWAP2'], 2),\n",
    "                                (quotes['USSWAP3'], 3),\n",
    "                                (quotes['USSWAP4'], 4),\n",
    "                                (quotes['USSWAP5'], 5),\n",
    "                                (quotes['USSWAP6'], 6),\n",
    "                                (quotes['USSWAP7'], 7),\n",
    "                                (quotes['USSWAP8'], 8),\n",
    "                                (quotes['USSWAP9'], 9),\n",
    "                                (quotes['USSWAP10'], 10),\n",
    "                                (quotes['USSWAP11'], 11),\n",
    "                                (quotes['USSWAP12'], 12),\n",
    "                                (quotes['USSWAP15'], 15),\n",
    "                                (quotes['USSWAP20'], 20),\n",
    "                                (quotes['USSWAP25'], 25),\n",
    "                                (quotes['USSWAP30'], 30),\n",
    "                                (quotes['USSWAP40'], 40),\n",
    "                                (quotes['USSWAP50'], 50)] ]\n",
    "\n",
    "swap_curve1_1 = ql.PiecewiseLogCubicDiscount(\n",
    "                0, ql.UnitedStates(), rate_helpers1_1, ql.Actual365Fixed())\n",
    "swap_curve1_1.enableExtrapolation()"
   ]
  },
  {
   "cell_type": "code",
   "execution_count": 22,
   "metadata": {},
   "outputs": [
    {
     "data": {
      "image/png": "[encoded data removed]",
      "text/plain": [
       "<matplotlib.figure.Figure at 0xa330a90>"
      ]
     },
     "metadata": {},
     "output_type": "display_data"
    }
   ],
   "source": [
    "plot_swap_curve(swap_curve1_1, start_ql_date, (start_ql_date + ql.Period(5, ql.Years)), \n",
    "                        what_to_plot = ['zeros','forwards'])"
   ]
  },
  {
   "cell_type": "markdown",
   "metadata": {},
   "source": [
    "The zero curve is slightly smoother if we drop the intermediate FRA0609, but these curve still don't look like a good option."
   ]
  },
  {
   "cell_type": "code",
   "execution_count": 23,
   "metadata": {
    "collapsed": true
   },
   "outputs": [],
   "source": [
    "rate_helpers1_2 = [ql.DepositRateHelper(\n",
    "                ql.QuoteHandle(ql.SimpleQuote(quotes['US00ON'])),\n",
    "                ql.Period(1, ql.Days), \n",
    "                0, \n",
    "                libor3.fixingCalendar(),\n",
    "                libor3.businessDayConvention(),\n",
    "                libor3.endOfMonth(), \n",
    "                libor3.dayCounter() ) ]\n",
    "\n",
    "rate_helpers1_2 += [ql.DepositRateHelper(ql.QuoteHandle(ql.SimpleQuote(rate)),\n",
    "                                maturity, \n",
    "                                libor3.fixingDays(), \n",
    "                                libor3.fixingCalendar(),\n",
    "                                libor3.businessDayConvention(),\n",
    "                                libor3.endOfMonth(), \n",
    "                                libor3.dayCounter() )\n",
    "           for rate, maturity in [\n",
    "               (quotes['US0001W'], ql.Period(1, ql.Weeks)),\n",
    "               (quotes['US0001M'], ql.Period(1, ql.Months)),\n",
    "               (quotes['US0003M'], ql.Period(3, ql.Months)),\n",
    "               (quotes['US0006M'], ql.Period(6, ql.Months)), # CHANGED HERE!\n",
    "               (quotes['US0012M'], ql.Period(12, ql.Months))] ] # CHANGED HERE!\n",
    "\n",
    "rate_helpers1_2 += [ql.FraRateHelper(ql.QuoteHandle(ql.SimpleQuote(rate)),\n",
    "                             months_to_start, ql.USDLibor(ql.Period(3,ql.Months))) \n",
    "            for rate, months_to_start in [\n",
    "                #(quotes['FRA0306'], 3),  CHANGED HERE!\n",
    "                #(quotes['FRA0609'], 6),*** CHANGED HERE! ***\n",
    "                #(quotes['FRA0912'], 9),   CHANGED HERE!\n",
    "                (quotes['FRA1215'], 12),\n",
    "                (quotes['FRA1518'], 15),\n",
    "                (quotes['FRA1821'], 18)] ]\n",
    "\n",
    "rate_helpers1_2 += [ql.SwapRateHelper(ql.QuoteHandle(ql.SimpleQuote(rate)),\n",
    "                              ql.Period(tenor, ql.Years), swap_calendar,\n",
    "                              swap_fixed_leg_frequency, swap_fixed_leg_adjustment,\n",
    "                              swap_fixed_leg_day_count, swap_float_index )\n",
    "            for rate, tenor in [(quotes['USSWAP2'], 2),\n",
    "                                (quotes['USSWAP3'], 3),\n",
    "                                (quotes['USSWAP4'], 4),\n",
    "                                (quotes['USSWAP5'], 5),\n",
    "                                (quotes['USSWAP6'], 6),\n",
    "                                (quotes['USSWAP7'], 7),\n",
    "                                (quotes['USSWAP8'], 8),\n",
    "                                (quotes['USSWAP9'], 9),\n",
    "                                (quotes['USSWAP10'], 10),\n",
    "                                (quotes['USSWAP11'], 11),\n",
    "                                (quotes['USSWAP12'], 12),\n",
    "                                (quotes['USSWAP15'], 15),\n",
    "                                (quotes['USSWAP20'], 20),\n",
    "                                (quotes['USSWAP25'], 25),\n",
    "                                (quotes['USSWAP30'], 30),\n",
    "                                (quotes['USSWAP40'], 40),\n",
    "                                (quotes['USSWAP50'], 50)] ]\n",
    "\n",
    "swap_curve1_2 = ql.PiecewiseLogCubicDiscount(\n",
    "                0, ql.UnitedStates(), rate_helpers1_2, ql.Actual365Fixed())\n",
    "swap_curve1_2.enableExtrapolation()"
   ]
  },
  {
   "cell_type": "code",
   "execution_count": 24,
   "metadata": {},
   "outputs": [
    {
     "data": {
      "image/png": "[encoded data removed]",
      "text/plain": [
       "<matplotlib.figure.Figure at 0xbd566a0>"
      ]
     },
     "metadata": {},
     "output_type": "display_data"
    }
   ],
   "source": [
    "plot_swap_curve(swap_curve1_2, start_ql_date, (start_ql_date + ql.Period(5, ql.Years)), \n",
    "                        what_to_plot = ['zeros','forwards'])"
   ]
  },
  {
   "cell_type": "markdown",
   "metadata": {},
   "source": [
    "## Part 2: USD Libor swap curve with OIS discounting\n",
    "We begin this part by constructing the OIS curve that will serve as the discount curve for our Libor swap curve. \n",
    "\n",
    "0 settlement days for ff funds assumed.\n",
    "\n",
    "Per Bbg, OIS (even short tenors) has 2 day settlement. This is consistent with OpenGamma doc. "
   ]
  },
  {
   "cell_type": "code",
   "execution_count": 25,
   "metadata": {
    "collapsed": true
   },
   "outputs": [],
   "source": [
    "# Indexes...\n",
    "ff = ql.FedFunds()\n",
    "\n",
    "# OIS...\n",
    "ois_settlement_days = 2 #\n",
    "\n",
    "# ARE THESE USED!?!\n",
    "\n",
    "#ois_fixed_leg_frequency = ql.Annual\n",
    "#ois_fixed_leg_day_count = ql.Actual360() \n",
    "#ois_fixed_leg_adjustment = ql.ModifiedFollowing \n",
    "ois_float_index = ff \n",
    "# according to OpenGamma doc, float pmts are typ made at the same freq (annual) as \n",
    "# the floating leg. Also, there is a payment lag of 2 days on OIS:\n",
    "ois_paymentLag = 2"
   ]
  },
  {
   "cell_type": "code",
   "execution_count": 26,
   "metadata": {
    "collapsed": true
   },
   "outputs": [],
   "source": [
    "# The FF index is implemented as an overnight deposit rate with zero days to \n",
    "# settle...\n",
    "ff_rate_helpers2 = [ql.DepositRateHelper(\n",
    "                    ql.QuoteHandle(ql.SimpleQuote(quotes['FEDL01'])),\n",
    "                    ql.Period(1, ql.Days), \n",
    "                    ff.fixingDays(), \n",
    "                    ff.fixingCalendar(),\n",
    "                    ff.businessDayConvention(),\n",
    "                    ff.endOfMonth() , \n",
    "                    ff.dayCounter() ) ]\n",
    "\n",
    "ff_rate_helpers2 += [ql.OISRateHelper(\n",
    "                    ois_settlement_days,\n",
    "                    tenor,\n",
    "                    ql.QuoteHandle(ql.SimpleQuote(rate)),\n",
    "                    ois_float_index,\n",
    "                    ql.YieldTermStructureHandle(),\n",
    "                    False,\n",
    "                    ois_paymentLag) \n",
    "                  for rate, tenor in [\n",
    "                        (quotes['USSO1Z'], ql.Period(1, ql.Weeks)),\n",
    "                        (quotes['USSO2Z'], ql.Period(2, ql.Weeks)),\n",
    "                        (quotes['USSO3Z'], ql.Period(3, ql.Weeks)),\n",
    "                        (quotes['USSOA'], ql.Period(1, ql.Months)),\n",
    "                        (quotes['USSOB'], ql.Period(2, ql.Months)),\n",
    "                        (quotes['USSOC'], ql.Period(3, ql.Months)),\n",
    "                        (quotes['USSOD'], ql.Period(4, ql.Months)),\n",
    "                        (quotes['USSOE'], ql.Period(5, ql.Months)),\n",
    "                        (quotes['USSOF'], ql.Period(6, ql.Months)),\n",
    "                        (quotes['USSOI'], ql.Period(9, ql.Months)),\n",
    "                        (quotes['USSO1'], ql.Period(1, ql.Years)),\n",
    "                        (quotes['USSO2'], ql.Period(2, ql.Years)),\n",
    "                        (quotes['USSO3'], ql.Period(3, ql.Years)),\n",
    "                        (quotes['USSO4'], ql.Period(4, ql.Years)),\n",
    "                        (quotes['USSO5'], ql.Period(5, ql.Years)),\n",
    "                        (quotes['USSO10'], ql.Period(10, ql.Years)),\n",
    "                        (quotes['USSO12'], ql.Period(12, ql.Years)),\n",
    "                        (quotes['USSO15'], ql.Period(15, ql.Years)),\n",
    "                        (quotes['USSO20'], ql.Period(20, ql.Years)),\n",
    "                        (quotes['USSO25'], ql.Period(25, ql.Years)),\n",
    "                        (quotes['USSO30'], ql.Period(30, ql.Years)),\n",
    "                        (quotes['USSO40'], ql.Period(40, ql.Years)) ] ]\n"
   ]
  },
  {
   "cell_type": "code",
   "execution_count": 27,
   "metadata": {
    "collapsed": true
   },
   "outputs": [],
   "source": [
    "ois_curve2 = ql.PiecewiseLogCubicDiscount(\n",
    "                0, ql.UnitedStates(), ff_rate_helpers2, ql.Actual365Fixed())\n",
    "ois_curve2.enableExtrapolation()"
   ]
  },
  {
   "cell_type": "code",
   "execution_count": 28,
   "metadata": {},
   "outputs": [
    {
     "data": {
      "image/png": "[encoded data removed]",
      "text/plain": [
       "<matplotlib.figure.Figure at 0xbfcb390>"
      ]
     },
     "metadata": {},
     "output_type": "display_data"
    },
    {
     "data": {
      "image/png": "[encoded data removed]",
      "text/plain": [
       "<matplotlib.figure.Figure at 0xbfcbcf8>"
      ]
     },
     "metadata": {},
     "output_type": "display_data"
    }
   ],
   "source": [
    "plot_swap_curve(ois_curve2, start_ql_date, end_ql_date, \n",
    "                        what_to_plot = ['zeros','forwards'])\n",
    "\n",
    "# close up on the forward curve wobble...\n",
    "plot_swap_curve(ois_curve2, start_ql_date, end_ql_date2, \n",
    "                        what_to_plot = ['zeros','forwards'])"
   ]
  },
  {
   "cell_type": "markdown",
   "metadata": {},
   "source": [
    "I constructed the following table to make comparisons with bootstrap from Bbg's ICVS page. The resulting zeros are within a few basis points, tentatively a success IMO. (Continuous compounding the zeros is obvious important!)"
   ]
  },
  {
   "cell_type": "code",
   "execution_count": 29,
   "metadata": {},
   "outputs": [
    {
     "data": {
      "text/html": [
       "<div>\n",
       "<table border=\"1\" class=\"dataframe\">\n",
       "  <thead>\n",
       "    <tr style=\"text-align: right;\">\n",
       "      <th></th>\n",
       "      <th>date</th>\n",
       "      <th>zero</th>\n",
       "      <th>discount</th>\n",
       "    </tr>\n",
       "  </thead>\n",
       "  <tbody>\n",
       "    <tr>\n",
       "      <th>0</th>\n",
       "      <td>2017-02-21</td>\n",
       "      <td>0.006703</td>\n",
       "      <td>1.000000</td>\n",
       "    </tr>\n",
       "    <tr>\n",
       "      <th>1</th>\n",
       "      <td>2018-02-21</td>\n",
       "      <td>0.009590</td>\n",
       "      <td>0.990324</td>\n",
       "    </tr>\n",
       "    <tr>\n",
       "      <th>2</th>\n",
       "      <td>2019-02-21</td>\n",
       "      <td>0.012111</td>\n",
       "      <td>0.975741</td>\n",
       "    </tr>\n",
       "    <tr>\n",
       "      <th>3</th>\n",
       "      <td>2020-02-21</td>\n",
       "      <td>0.014042</td>\n",
       "      <td>0.958188</td>\n",
       "    </tr>\n",
       "    <tr>\n",
       "      <th>4</th>\n",
       "      <td>2021-02-21</td>\n",
       "      <td>0.015476</td>\n",
       "      <td>0.939127</td>\n",
       "    </tr>\n",
       "    <tr>\n",
       "      <th>5</th>\n",
       "      <td>2027-02-21</td>\n",
       "      <td>0.020084</td>\n",
       "      <td>0.815675</td>\n",
       "    </tr>\n",
       "    <tr>\n",
       "      <th>6</th>\n",
       "      <td>2037-02-21</td>\n",
       "      <td>0.022289</td>\n",
       "      <td>0.636171</td>\n",
       "    </tr>\n",
       "    <tr>\n",
       "      <th>7</th>\n",
       "      <td>2047-02-21</td>\n",
       "      <td>0.022391</td>\n",
       "      <td>0.505859</td>\n",
       "    </tr>\n",
       "    <tr>\n",
       "      <th>8</th>\n",
       "      <td>2057-02-21</td>\n",
       "      <td>0.022302</td>\n",
       "      <td>0.404510</td>\n",
       "    </tr>\n",
       "    <tr>\n",
       "      <th>9</th>\n",
       "      <td>2067-02-21</td>\n",
       "      <td>0.022250</td>\n",
       "      <td>0.323453</td>\n",
       "    </tr>\n",
       "  </tbody>\n",
       "</table>\n",
       "</div>"
      ],
      "text/plain": [
       "         date      zero  discount\n",
       "0  2017-02-21  0.006703  1.000000\n",
       "1  2018-02-21  0.009590  0.990324\n",
       "2  2019-02-21  0.012111  0.975741\n",
       "3  2020-02-21  0.014042  0.958188\n",
       "4  2021-02-21  0.015476  0.939127\n",
       "5  2027-02-21  0.020084  0.815675\n",
       "6  2037-02-21  0.022289  0.636171\n",
       "7  2047-02-21  0.022391  0.505859\n",
       "8  2057-02-21  0.022302  0.404510\n",
       "9  2067-02-21  0.022250  0.323453"
      ]
     },
     "execution_count": 29,
     "metadata": {},
     "output_type": "execute_result"
    }
   ],
   "source": [
    "dates = ([start_ql_date + ql.Period(i,ql.Years) for i in range(0, 5)] +\n",
    "         [start_ql_date + ql.Period(10,ql.Years) + ql.Period(10*i,ql.Years) for i in range(0, 5)])\n",
    "    \n",
    "dates_ = [ dt.date(d.year(), d.month(), d.dayOfMonth()) for d in dates ]\n",
    "\n",
    "zeros = [ois_curve2.zeroRate(d, ql.Actual360(), \n",
    "                                  ql.Continuous).rate() for d in dates]\n",
    "discounts = [ois_curve2.discount(d) for d in dates]\n",
    "\n",
    "pd.DataFrame([ (date, zero, discount) for date, zero, discount in zip(dates_, zeros, discounts)],\n",
    "            columns = [\"date\", \"zero\", \"discount\"])"
   ]
  },
  {
   "cell_type": "markdown",
   "metadata": {},
   "source": [
    "For kicks, I verify that the at-par 20Y OIS has zero NPV when priced against this curve. This exercise has the value of ensuring that we know what terms have been assumed for OIS in the bootstrapping procedure, and making sure those agree with the real-world (i.e., the Bbg data). "
   ]
  },
  {
   "cell_type": "code",
   "execution_count": 30,
   "metadata": {
    "collapsed": true
   },
   "outputs": [],
   "source": [
    "discount_curve_handle2 = ql.RelinkableYieldTermStructureHandle()\n",
    "discount_curve_handle2.linkTo(ois_curve2)"
   ]
  },
  {
   "cell_type": "code",
   "execution_count": 31,
   "metadata": {},
   "outputs": [],
   "source": [
    "#ois_curve2_handle = ql.YieldTermStructureHandle(ois_curve2)\n",
    "#ois_index = ql.FedFunds(ois_curve1_handle)\n",
    "ff_index = ql.FedFunds(discount_curve_handle2) # this handle does not need to be \"relinkable\"; not sure what that does for us.\n",
    "\n",
    "# this is a 20Y swap (because i have data on the 20Y basis swap also)\n",
    "ois_settle_date = calendar.advance(evaluation_date, 2, ql.Days)\n",
    "ois_maturity_date = calendar.advance(settle_date1, 20, ql.Years) \n",
    "ois_fixed_leg_tenor = ql.Period(12, ql.Months) \n",
    "ois_fixed_business_convention = ql.ModifiedFollowing\n",
    "ois_fixed_termination_business_convention = ql.ModifiedFollowing\n",
    "ois_fixed_schedule = ql.Schedule(ois_settle_date, ois_maturity_date, \n",
    "                            ois_fixed_leg_tenor, calendar,\n",
    "                            ois_fixed_business_convention, \n",
    "                            ois_fixed_termination_business_convention, \n",
    "                            ql.DateGeneration.Backward, False)\n",
    "\n",
    "ois_float_leg_tenor = ql.Period(12, ql.Months) \n",
    "\n",
    "# I believe the float schedule is constrained to be identical to the fixed one, per convention.\n",
    "\n",
    "notional = 10000000\n",
    "ois_fixed_rate1 = quotes['USSO20'] # quotes['USSO20'] = 0.02215 ... 0.02214991 => 0.701 NPV\n",
    "ois_fixed_leg_daycount = ql.Actual360()\n",
    "#float_spread1 = 0.000 \n",
    "#float_leg_daycount = ql.Actual360()\n",
    "\n",
    "ois_paymentCalendar = calendar\n",
    "ois_spread = 0\n",
    "ois_paymentLag = 2\n",
    "\n",
    "ois20 = ql.OvernightIndexedSwap(ql.OvernightIndexedSwap.Payer, \n",
    "                               notional, \n",
    "                               ois_fixed_schedule,\n",
    "                               ois_fixed_rate1, \n",
    "                               ois_fixed_leg_daycount, \n",
    "                               ff_index, #ois_index,\n",
    "                               ois_spread,\n",
    "                               ois_paymentLag,\n",
    "                               ql.ModifiedFollowing, # ?\n",
    "                               ois_paymentCalendar,\n",
    "                               False )\n",
    "\n",
    "ois_pricing_engine = ql.DiscountingSwapEngine(discount_curve_handle2)\n",
    "ois20.setPricingEngine(ois_pricing_engine)"
   ]
  },
  {
   "cell_type": "code",
   "execution_count": 32,
   "metadata": {},
   "outputs": [
    {
     "name": "stdout",
     "output_type": "stream",
     "text": [
      "Net Present Value   :               -0.000\n",
      "Fair Spread         :                0.000\n",
      "Fair Rate           :                0.022\n",
      "Fixed Leg BPS       :           -16425.133\n"
     ]
    }
   ],
   "source": [
    "print(\"%-20s: %20.3f\" % (\"Net Present Value\", ois20.NPV()))\n",
    "print(\"%-20s: %20.3f\" % (\"Fair Spread\", ois20.fairSpread()))\n",
    "print(\"%-20s: %20.3f\" % (\"Fair Rate\", ois20.fairRate()))\n",
    "print(\"%-20s: %20.3f\" % (\"Fixed Leg BPS\", ois20.fixedLegBPS()))\n",
    "#print(\"%-20s: %20.3f\" % (\"Floating Leg BPS\", ois20.floatingLegBPS()))"
   ]
  },
  {
   "cell_type": "markdown",
   "metadata": {},
   "source": [
    "To build the new swap curve, we need to rebuild the rate_helpers to give the discount curve to the swap helper...\n"
   ]
  },
  {
   "cell_type": "code",
   "execution_count": 33,
   "metadata": {
    "collapsed": true
   },
   "outputs": [],
   "source": [
    "#now build swap_rate_helpers2\n",
    "#discount_curve_handle2 = ql.RelinkableYieldTermStructureHandle()\n",
    "#discount_curve_handle2.linkTo(ois_curve2)"
   ]
  },
  {
   "cell_type": "code",
   "execution_count": 34,
   "metadata": {},
   "outputs": [],
   "source": [
    "swap_rate_helpers2 = [ql.DepositRateHelper(\n",
    "                ql.QuoteHandle(ql.SimpleQuote(quotes['US00ON'])),\n",
    "                ql.Period(1, ql.Days), \n",
    "                0, \n",
    "                libor3.fixingCalendar(),\n",
    "                libor3.businessDayConvention(),\n",
    "                libor3.endOfMonth(), \n",
    "                libor3.dayCounter() ) ]\n",
    "\n",
    "swap_rate_helpers2 += [ql.DepositRateHelper(ql.QuoteHandle(ql.SimpleQuote(rate)),\n",
    "                                maturity, \n",
    "                                libor3.fixingDays(), \n",
    "                                libor3.fixingCalendar(),\n",
    "                                libor3.businessDayConvention(),\n",
    "                                libor3.endOfMonth(), \n",
    "                                libor3.dayCounter() )\n",
    "           for rate, maturity in [\n",
    "               (quotes['US0001W'], ql.Period(1, ql.Weeks)),\n",
    "               (quotes['US0001M'], ql.Period(1, ql.Months)),\n",
    "               (quotes['US0003M'], ql.Period(3, ql.Months))] ] \n",
    "\n",
    "swap_rate_helpers2 += [ql.FraRateHelper(ql.QuoteHandle(ql.SimpleQuote(rate)),\n",
    "                             months_to_start, ql.USDLibor(ql.Period(3,ql.Months))) \n",
    "            for rate, months_to_start in [\n",
    "                (quotes['FRA0306'], 3), \n",
    "                (quotes['FRA0609'], 6),\n",
    "                (quotes['FRA0912'], 9),\n",
    "                (quotes['FRA1215'], 12),\n",
    "                (quotes['FRA1518'], 15),\n",
    "                (quotes['FRA1821'], 18)] ]\n",
    "\n",
    "swap_rate_helpers2 += [ql.SwapRateHelper(ql.QuoteHandle(ql.SimpleQuote(rate)),\n",
    "                            ql.Period(tenor, ql.Years), swap_calendar,\n",
    "                            swap_fixed_leg_frequency, swap_fixed_leg_adjustment,\n",
    "                            swap_fixed_leg_day_count, swap_float_index,\n",
    "                            ql.QuoteHandle(),\n",
    "                            ql.Period(0,ql.Days),\n",
    "                            discount_curve_handle2 )\n",
    "            for rate, tenor in [(quotes['USSWAP2'], 2),\n",
    "                                (quotes['USSWAP3'], 3),\n",
    "                                (quotes['USSWAP4'], 4),\n",
    "                                (quotes['USSWAP5'], 5),\n",
    "                                (quotes['USSWAP6'], 6),\n",
    "                                (quotes['USSWAP7'], 7),\n",
    "                                (quotes['USSWAP8'], 8),\n",
    "                                (quotes['USSWAP9'], 9),\n",
    "                                (quotes['USSWAP10'], 10),\n",
    "                                (quotes['USSWAP11'], 11),\n",
    "                                (quotes['USSWAP12'], 12),\n",
    "                                (quotes['USSWAP15'], 15),\n",
    "                                (quotes['USSWAP20'], 20),\n",
    "                                (quotes['USSWAP25'], 25),\n",
    "                                (quotes['USSWAP30'], 30),\n",
    "                                (quotes['USSWAP40'], 40),\n",
    "                                (quotes['USSWAP50'], 50)] ]\n",
    "\n",
    "swap_curve2 = ql.PiecewiseLogCubicDiscount(\n",
    "                0, ql.UnitedStates(), swap_rate_helpers2, ql.Actual365Fixed())\n",
    "swap_curve2.enableExtrapolation()"
   ]
  },
  {
   "cell_type": "code",
   "execution_count": 35,
   "metadata": {},
   "outputs": [
    {
     "data": {
      "image/png": "[encoded data removed]",
      "text/plain": [
       "<matplotlib.figure.Figure at 0xbd67fd0>"
      ]
     },
     "metadata": {},
     "output_type": "display_data"
    }
   ],
   "source": [
    "plot_swap_curve(swap_curve2, start_ql_date, end_ql_date, \n",
    "                        what_to_plot = ['zeros', 'forwards'])\n"
   ]
  },
  {
   "cell_type": "markdown",
   "metadata": {},
   "source": [
    "### Verify that our 10Y par swap has zero NPV according to the new pricing curve"
   ]
  },
  {
   "cell_type": "code",
   "execution_count": 36,
   "metadata": {
    "collapsed": true
   },
   "outputs": [],
   "source": [
    "swap_curve2_handle = ql.YieldTermStructureHandle(swap_curve2)\n",
    "swap_float_index2 = ql.USDLibor(ql.Period(3,ql.Months), swap_curve2_handle)\n",
    "\n",
    "irs2 = ql.VanillaSwap(ql.VanillaSwap.Payer, notional, fixed_schedule1,\n",
    "                    fixed_rate1, fixed_leg_daycount, float_schedule1,\n",
    "                    swap_float_index2, float_spread1, \n",
    "                     float_leg_daycount)\n",
    "\n",
    "#pricing_engine2 = ql.DiscountingSwapEngine(discount_curve_handle2)\n",
    "#irs2.setPricingEngine(pricing_engine2)\n",
    "irs2.setPricingEngine(ois_pricing_engine)"
   ]
  },
  {
   "cell_type": "code",
   "execution_count": 37,
   "metadata": {},
   "outputs": [
    {
     "name": "stdout",
     "output_type": "stream",
     "text": [
      "Net Present Value   :                0.000\n",
      "Fair Spread         :               -0.000\n",
      "Fair Rate           :                0.024\n",
      "Fixed Leg BPS       :            -9113.364\n",
      "Floating Leg BPS    :             9268.195\n"
     ]
    }
   ],
   "source": [
    "print(\"%-20s: %20.3f\" % (\"Net Present Value\", irs2.NPV()))\n",
    "print(\"%-20s: %20.3f\" % (\"Fair Spread\", irs2.fairSpread()))\n",
    "print(\"%-20s: %20.3f\" % (\"Fair Rate\", irs2.fairRate()))\n",
    "print(\"%-20s: %20.3f\" % (\"Fixed Leg BPS\", irs2.fixedLegBPS()))\n",
    "print(\"%-20s: %20.3f\" % (\"Floating Leg BPS\", irs2.floatingLegBPS()))"
   ]
  },
  {
   "cell_type": "markdown",
   "metadata": {},
   "source": [
    "### Let's compare the zero curves calculated under the different bootstrapping methods.\n"
   ]
  },
  {
   "cell_type": "code",
   "execution_count": 38,
   "metadata": {
    "collapsed": true
   },
   "outputs": [],
   "source": [
    "default_plot_size = (10,5)\n",
    "dates = [start_ql_date + ql.Period(i,ql.Days) for i in range(0, end_ql_date-start_ql_date+1)]\n",
    "dates_ = [ dt.date(d.year(), d.month(), d.dayOfMonth()) for d in dates ]\n",
    "zeros1 = [swap_curve1.zeroRate(d, ql.Actual360(), \n",
    "                                  ql.Continuous).rate() for d in dates]\n",
    "zeros2 = [swap_curve2.zeroRate(d, ql.Actual360(), \n",
    "                                  ql.Continuous).rate() for d in dates]\n",
    "discount1 = [swap_curve1.discount(d) for d in dates]\n",
    "discount2 = [swap_curve2.discount(d) for d in dates]"
   ]
  },
  {
   "cell_type": "code",
   "execution_count": 39,
   "metadata": {},
   "outputs": [
    {
     "data": {
      "image/png": "[encoded data removed]",
      "text/plain": [
       "<matplotlib.figure.Figure at 0x4ca80b8>"
      ]
     },
     "metadata": {},
     "output_type": "display_data"
    }
   ],
   "source": [
    "f = plt.figure(figsize = default_plot_size)\n",
    "ax = f.add_axes([0,0,1,1])\n",
    "ax.xaxis.grid(True, 'major', color=(0.9, 0.9, 0.9))\n",
    "ax.yaxis.grid(True, 'major', color=(0.9, 0.9, 0.9))\n",
    "ax.plot_date(dates_, zeros1, '-')\n",
    "ax.plot_date(dates_, zeros2, '-')\n",
    "ax.axhline(0.0, linewidth=1, color=(0.5,0.5,0.5))\n",
    "plt.show()"
   ]
  },
  {
   "cell_type": "markdown",
   "metadata": {},
   "source": [
    "The curves look really similar. I guess this shouldn't be surprising since each is an interpolator of market rates! Let's see how similar they are, in fact."
   ]
  },
  {
   "cell_type": "code",
   "execution_count": 40,
   "metadata": {},
   "outputs": [
    {
     "data": {
      "image/png": "[encoded data removed]",
      "text/plain": [
       "<matplotlib.figure.Figure at 0xbc7d7f0>"
      ]
     },
     "metadata": {},
     "output_type": "display_data"
    }
   ],
   "source": [
    "dd = [x-y for x,y in zip(zeros1,zeros2)]\n",
    "f = plt.figure(figsize = default_plot_size)\n",
    "ax = f.add_axes([0,0,1,1])\n",
    "ax.xaxis.grid(True, 'major', color=(0.9, 0.9, 0.9))\n",
    "ax.yaxis.grid(True, 'major', color=(0.9, 0.9, 0.9))\n",
    "ax.plot_date(dates_, dd, '-')\n",
    "ax.axhline(0.0, linewidth=1, color=(0.5,0.5,0.5))\n",
    "plt.show()"
   ]
  },
  {
   "cell_type": "markdown",
   "metadata": {
    "collapsed": true
   },
   "source": [
    "The difference is very small -- less than 1bp at any maturity -- and non-existent at the very short end where deposits and FRAs tell us the market rates exactly.\n",
    "\n",
    "Interestingly, even though the differences between the forecasting curves \"appears\" very similar, they are not interchangeable. For example, if we try (in error) to use the forecasting curve derived according to the single-curve methodology with the OIS discounting curve, our par 10Y swap is mispriced:"
   ]
  },
  {
   "cell_type": "code",
   "execution_count": 41,
   "metadata": {},
   "outputs": [
    {
     "name": "stdout",
     "output_type": "stream",
     "text": [
      "WRONG Net Present Value:             3646.263\n"
     ]
    }
   ],
   "source": [
    "irs_wrong_forecast = ql.VanillaSwap(ql.VanillaSwap.Payer, notional, fixed_schedule1,\n",
    "                    fixed_rate1, fixed_leg_daycount, float_schedule1,\n",
    "                    swap_float_index1, float_spread1, \n",
    "                     float_leg_daycount)\n",
    "irs_wrong_forecast.setPricingEngine(ois_pricing_engine)\n",
    "print(\"%-20s: %20.3f\" % (\"WRONG Net Present Value\", irs_wrong_forecast.NPV()))"
   ]
  },
  {
   "cell_type": "markdown",
   "metadata": {},
   "source": [
    "It will be interesting to see how a swap (not at par) would be priced differently under the single versus the dual-curve methodologies."
   ]
  },
  {
   "cell_type": "markdown",
   "metadata": {
    "collapsed": true
   },
   "source": [
    "### Compare prices of swaps priced under two schemes.\n",
    "(C.f., Ch.19 of QPC.)\n",
    "\n",
    "I have already shown that the price of a par swap is zero under either approach (by definition and accurate calculation). I will price a swap initiated (at par) one year prior to the evaluation date, and see how the price differs.\n",
    "\n",
    "On the way, I will need to show how to price a swap at a date after it's initiation date. This is non-trivial (to me), and requires performing some QL manipulations that are not well documented (with no offense to the hard-working administrators of this wonderful tool). \n",
    "\n",
    "Here we construct a fixed-for-float swap initiated on 2016-02-29. The par fixed rate for 10Y fixed against 3M Libor was 1.575% (Bbg USSWAP10) on 2016-02-29. (Recall that it was 2.408% on our evaluation_date, 2017-02-21.) Let build that swap and compare it's price on 2017-02-21 according to the two pricing methodologies we have reviewed.\n"
   ]
  },
  {
   "cell_type": "markdown",
   "metadata": {},
   "source": [
    "Pricing on 2017-02-21 the swap initiated on 2016-02-29 with standard \"in-advance\" rate-setting means that we need to know the fixing for 3M Libor for 2017-02-17. The 3M Libor rate on that date was 1.05233%; here are two ways we include that data point in our forecaster:"
   ]
  },
  {
   "cell_type": "markdown",
   "metadata": {},
   "source": [
    "N.B., as we will see below when use use another instance of ```ql.USDLibor(ql.Period(3, ql.Months)```, \"stored fixings are shared between all instances of the same index... They go into a global map whose lookup key is the return value of the ```index.name()``` method\" (per L. Ballabio via quantlib-users group). In particular, when we ```addFixing()``` to ```swap_float_index1``` in the next frame, the same fixing will be set for ```swap_float_index2```.\n"
   ]
  },
  {
   "cell_type": "code",
   "execution_count": 42,
   "metadata": {},
   "outputs": [],
   "source": [
    "if True:\n",
    "    swap_float_index1.addFixing(ql.Date(17,2,2017), 0.0105233)\n",
    "else:\n",
    "    ''' \n",
    "    Alternatively, we can use the following method to specify a time series of fixings. \n",
    "    (This may be more convenient to construct in a systematic way.)\n",
    "    '''\n",
    "    swap_float_index1.addFixings([ql.Date(17,2,2017), ql.Date(20,2,2017)],\n",
    "                                   [0.0105233, 0.0105011])\n",
    "#"
   ]
  },
  {
   "cell_type": "markdown",
   "metadata": {},
   "source": [
    "Now we construct the swap. We use this code to trim from the payments schedule those payments that have been paid before the evaluation date:\n",
    "```_\n",
    "fixed_schedule_ = ql.Schedule([j for j in fixed_schedule if j >= evaluation_date],\n",
    "                          calendar,\n",
    "                          rolling_convention)\n",
    "```\n",
    "and similary for the floating payments schedule. I am not sure what the appropriate ```rolling_convention``` is, but I take a flier at it. "
   ]
  },
  {
   "cell_type": "code",
   "execution_count": 43,
   "metadata": {},
   "outputs": [],
   "source": [
    "settle_date3 = ql.Date(20,2,2016)\n",
    "maturity_date3 = calendar.advance(settle_date3, 10, ql.Years)\n",
    "\n",
    "fixed_schedule3 = ql.Schedule(settle_date3, maturity_date3, \n",
    "                            fixed_leg_tenor, calendar,\n",
    "                            business_convention, termination_business_convention, \n",
    "                            ql.DateGeneration.Backward, False)\n",
    "\n",
    "# trim to to payments that have not yet occurred...\n",
    "rolling_convention = ql.ModifiedFollowing # ??\n",
    "fixed_schedule3_ = ql.Schedule([j for j in fixed_schedule3 if j >= evaluation_date],\n",
    "                          calendar,\n",
    "                          rolling_convention)\n",
    "\n",
    "float_schedule3 = ql.Schedule(settle_date3, maturity_date3, \n",
    "                            float_leg_tenor, calendar,\n",
    "                            business_convention, termination_business_convention, \n",
    "                            ql.DateGeneration.Backward, False)\n",
    "\n",
    "# trim to to payments that have not yet occurred... \n",
    "float_schedule3_ = ql.Schedule([j for j in float_schedule3 if j >= evaluation_date],\n",
    "                          calendar,\n",
    "                          rolling_convention)\n",
    "\n",
    "fixed_rate3 = 0.016063\n",
    "float_spread3 = 0.000 \n",
    "\n",
    "irs3_1 = ql.VanillaSwap(ql.VanillaSwap.Payer, notional, fixed_schedule3_,\n",
    "                    fixed_rate3, fixed_leg_daycount, float_schedule3_,\n",
    "                    swap_float_index1, float_spread3, \n",
    "                     float_leg_daycount)"
   ]
  },
  {
   "cell_type": "markdown",
   "metadata": {},
   "source": [
    "We can look at the fixed leg payments:"
   ]
  },
  {
   "cell_type": "code",
   "execution_count": 44,
   "metadata": {},
   "outputs": [
    {
     "data": {
      "text/html": [
       "<div>\n",
       "<table border=\"1\" class=\"dataframe\">\n",
       "  <thead>\n",
       "    <tr style=\"text-align: right;\">\n",
       "      <th></th>\n",
       "      <th>Date</th>\n",
       "      <th>Amount</th>\n",
       "    </tr>\n",
       "  </thead>\n",
       "  <tbody>\n",
       "    <tr>\n",
       "      <th>1</th>\n",
       "      <td>August 21st, 2017</td>\n",
       "      <td>80315.000000</td>\n",
       "    </tr>\n",
       "    <tr>\n",
       "      <th>2</th>\n",
       "      <td>February 20th, 2018</td>\n",
       "      <td>79868.805556</td>\n",
       "    </tr>\n",
       "    <tr>\n",
       "      <th>3</th>\n",
       "      <td>August 20th, 2018</td>\n",
       "      <td>80315.000000</td>\n",
       "    </tr>\n",
       "    <tr>\n",
       "      <th>4</th>\n",
       "      <td>February 20th, 2019</td>\n",
       "      <td>80315.000000</td>\n",
       "    </tr>\n",
       "    <tr>\n",
       "      <th>5</th>\n",
       "      <td>August 20th, 2019</td>\n",
       "      <td>80315.000000</td>\n",
       "    </tr>\n",
       "  </tbody>\n",
       "</table>\n",
       "</div>"
      ],
      "text/plain": [
       "                  Date        Amount\n",
       "1    August 21st, 2017  80315.000000\n",
       "2  February 20th, 2018  79868.805556\n",
       "3    August 20th, 2018  80315.000000\n",
       "4  February 20th, 2019  80315.000000\n",
       "5    August 20th, 2019  80315.000000"
      ]
     },
     "execution_count": 44,
     "metadata": {},
     "output_type": "execute_result"
    }
   ],
   "source": [
    "# Here are the first five...\n",
    "pd.DataFrame([(cf.date(), cf.amount()) for cf in irs3_1.leg(0)],\n",
    "            columns = [\"Date\", \"Amount\"],\n",
    "            index = range(1, len(irs3_1.leg(0))+1)).head()"
   ]
  },
  {
   "cell_type": "markdown",
   "metadata": {},
   "source": [
    "... and we can look at the forecasts for the floating rate payments as of ```evaluation_date```:\n",
    "\n",
    "(Only the first one has been fixed by this date, of course.)"
   ]
  },
  {
   "cell_type": "code",
   "execution_count": 45,
   "metadata": {},
   "outputs": [
    {
     "data": {
      "text/html": [
       "<div>\n",
       "<table border=\"1\" class=\"dataframe\">\n",
       "  <thead>\n",
       "    <tr style=\"text-align: right;\">\n",
       "      <th></th>\n",
       "      <th>Date</th>\n",
       "      <th>Amount</th>\n",
       "    </tr>\n",
       "  </thead>\n",
       "  <tbody>\n",
       "    <tr>\n",
       "      <th>1</th>\n",
       "      <td>May 22nd, 2017</td>\n",
       "      <td>26308.250000</td>\n",
       "    </tr>\n",
       "    <tr>\n",
       "      <th>2</th>\n",
       "      <td>August 21st, 2017</td>\n",
       "      <td>32173.569193</td>\n",
       "    </tr>\n",
       "    <tr>\n",
       "      <th>3</th>\n",
       "      <td>November 20th, 2017</td>\n",
       "      <td>34706.711015</td>\n",
       "    </tr>\n",
       "    <tr>\n",
       "      <th>4</th>\n",
       "      <td>February 20th, 2018</td>\n",
       "      <td>38800.074462</td>\n",
       "    </tr>\n",
       "    <tr>\n",
       "      <th>5</th>\n",
       "      <td>May 21st, 2018</td>\n",
       "      <td>41202.405840</td>\n",
       "    </tr>\n",
       "    <tr>\n",
       "      <th>6</th>\n",
       "      <td>August 20th, 2018</td>\n",
       "      <td>45443.388404</td>\n",
       "    </tr>\n",
       "    <tr>\n",
       "      <th>7</th>\n",
       "      <td>November 20th, 2018</td>\n",
       "      <td>47887.626954</td>\n",
       "    </tr>\n",
       "    <tr>\n",
       "      <th>8</th>\n",
       "      <td>February 20th, 2019</td>\n",
       "      <td>48728.684254</td>\n",
       "    </tr>\n",
       "    <tr>\n",
       "      <th>9</th>\n",
       "      <td>May 20th, 2019</td>\n",
       "      <td>49578.733894</td>\n",
       "    </tr>\n",
       "    <tr>\n",
       "      <th>10</th>\n",
       "      <td>August 20th, 2019</td>\n",
       "      <td>53946.677031</td>\n",
       "    </tr>\n",
       "  </tbody>\n",
       "</table>\n",
       "</div>"
      ],
      "text/plain": [
       "                   Date        Amount\n",
       "1        May 22nd, 2017  26308.250000\n",
       "2     August 21st, 2017  32173.569193\n",
       "3   November 20th, 2017  34706.711015\n",
       "4   February 20th, 2018  38800.074462\n",
       "5        May 21st, 2018  41202.405840\n",
       "6     August 20th, 2018  45443.388404\n",
       "7   November 20th, 2018  47887.626954\n",
       "8   February 20th, 2019  48728.684254\n",
       "9        May 20th, 2019  49578.733894\n",
       "10    August 20th, 2019  53946.677031"
      ]
     },
     "execution_count": 45,
     "metadata": {},
     "output_type": "execute_result"
    }
   ],
   "source": [
    "# Here are the first ten...\n",
    "pd.DataFrame([(cf.date(), cf.amount()) for cf in irs3_1.leg(1)],\n",
    "            columns = [\"Date\", \"Amount\"],\n",
    "            index = range(1, len(irs3_1.leg(1))+1)).head(10)"
   ]
  },
  {
   "cell_type": "markdown",
   "metadata": {},
   "source": [
    "For the record, here is how the first floating-leg payment is computed: \n",
    "\n",
    "(Note that ```evaluation_date``` 2017-02-21 is the beginning of the accumulation period (with fixing date 2017-02-17) for the 2017-05-22 floating leg payment (and the 08-21 fixed leg payment, too)."
   ]
  },
  {
   "cell_type": "code",
   "execution_count": 46,
   "metadata": {},
   "outputs": [
    {
     "name": "stdout",
     "output_type": "stream",
     "text": [
      "First floating leg pmt year-fraction:  0.25\n",
      "First floating leg payment:  26308.25\n"
     ]
    }
   ],
   "source": [
    "first_payment_year_fraction = (ql.Date(22,5,2017)-ql.Date(21,2,2017))/360\n",
    "first_floating_rate_payment = first_payment_year_fraction*(0.0105233)*notional\n",
    "print(\"First floating leg pmt year-fraction: \", first_payment_year_fraction)\n",
    "print(\"First floating leg payment: \", first_floating_rate_payment)"
   ]
  },
  {
   "cell_type": "markdown",
   "metadata": {},
   "source": [
    "The value of the swap on our ```evaluation_date```:"
   ]
  },
  {
   "cell_type": "code",
   "execution_count": 47,
   "metadata": {},
   "outputs": [
    {
     "name": "stdout",
     "output_type": "stream",
     "text": [
      "Net Present Value   :           610487.045\n",
      "Fair Spread         :               -0.007\n",
      "Fair Rate           :                0.024\n",
      "Fixed Leg BPS       :            -8153.580\n",
      "Floating Leg BPS    :             8295.973\n"
     ]
    }
   ],
   "source": [
    "irs3_1.setPricingEngine(pricing_engine1)\n",
    "print(\"%-20s: %20.3f\" % (\"Net Present Value\", irs3_1.NPV()))\n",
    "print(\"%-20s: %20.3f\" % (\"Fair Spread\", irs3_1.fairSpread()))\n",
    "print(\"%-20s: %20.3f\" % (\"Fair Rate\", irs3_1.fairRate()))\n",
    "print(\"%-20s: %20.3f\" % (\"Fixed Leg BPS\", irs3_1.fixedLegBPS()))\n",
    "print(\"%-20s: %20.3f\" % (\"Floating Leg BPS\", irs3_1.floatingLegBPS()))"
   ]
  },
  {
   "cell_type": "markdown",
   "metadata": {},
   "source": [
    "Looking at the same swap under the dual-curve pricing:"
   ]
  },
  {
   "cell_type": "code",
   "execution_count": 48,
   "metadata": {},
   "outputs": [],
   "source": [
    "irs3_2 = ql.VanillaSwap(ql.VanillaSwap.Payer, notional, fixed_schedule3_,\n",
    "                    fixed_rate3, fixed_leg_daycount, float_schedule3_,\n",
    "                    swap_float_index2, float_spread3, \n",
    "                     float_leg_daycount)"
   ]
  },
  {
   "cell_type": "markdown",
   "metadata": {},
   "source": [
    "This is the same swap, representing the same payment flows, but the forecasts of future floating rates and the discounting/pricing curve to be applied are different. To see this, note that the fixed leg payments are the same:"
   ]
  },
  {
   "cell_type": "code",
   "execution_count": 49,
   "metadata": {},
   "outputs": [
    {
     "data": {
      "text/html": [
       "<div>\n",
       "<table border=\"1\" class=\"dataframe\">\n",
       "  <thead>\n",
       "    <tr style=\"text-align: right;\">\n",
       "      <th></th>\n",
       "      <th>Date</th>\n",
       "      <th>Amount</th>\n",
       "    </tr>\n",
       "  </thead>\n",
       "  <tbody>\n",
       "    <tr>\n",
       "      <th>1</th>\n",
       "      <td>August 21st, 2017</td>\n",
       "      <td>80315.000000</td>\n",
       "    </tr>\n",
       "    <tr>\n",
       "      <th>2</th>\n",
       "      <td>February 20th, 2018</td>\n",
       "      <td>79868.805556</td>\n",
       "    </tr>\n",
       "    <tr>\n",
       "      <th>3</th>\n",
       "      <td>August 20th, 2018</td>\n",
       "      <td>80315.000000</td>\n",
       "    </tr>\n",
       "    <tr>\n",
       "      <th>4</th>\n",
       "      <td>February 20th, 2019</td>\n",
       "      <td>80315.000000</td>\n",
       "    </tr>\n",
       "    <tr>\n",
       "      <th>5</th>\n",
       "      <td>August 20th, 2019</td>\n",
       "      <td>80315.000000</td>\n",
       "    </tr>\n",
       "  </tbody>\n",
       "</table>\n",
       "</div>"
      ],
      "text/plain": [
       "                  Date        Amount\n",
       "1    August 21st, 2017  80315.000000\n",
       "2  February 20th, 2018  79868.805556\n",
       "3    August 20th, 2018  80315.000000\n",
       "4  February 20th, 2019  80315.000000\n",
       "5    August 20th, 2019  80315.000000"
      ]
     },
     "execution_count": 49,
     "metadata": {},
     "output_type": "execute_result"
    }
   ],
   "source": [
    "# Here are the first five...\n",
    "pd.DataFrame([(cf.date(), cf.amount()) for cf in irs3_2.leg(0)],\n",
    "            columns = [\"Date\", \"Amount\"],\n",
    "            index = range(1, len(irs3_1.leg(0))+1)).head()"
   ]
  },
  {
   "cell_type": "markdown",
   "metadata": {},
   "source": [
    "...but the floating leg forecasts are slightly different (except for the first one, which is fixed as of ```evaluation_date```):"
   ]
  },
  {
   "cell_type": "code",
   "execution_count": 50,
   "metadata": {},
   "outputs": [
    {
     "data": {
      "text/html": [
       "<div>\n",
       "<table border=\"1\" class=\"dataframe\">\n",
       "  <thead>\n",
       "    <tr style=\"text-align: right;\">\n",
       "      <th></th>\n",
       "      <th>Date</th>\n",
       "      <th>Amount</th>\n",
       "    </tr>\n",
       "  </thead>\n",
       "  <tbody>\n",
       "    <tr>\n",
       "      <th>1</th>\n",
       "      <td>May 22nd, 2017</td>\n",
       "      <td>26308.250000</td>\n",
       "    </tr>\n",
       "    <tr>\n",
       "      <th>2</th>\n",
       "      <td>August 21st, 2017</td>\n",
       "      <td>32173.569585</td>\n",
       "    </tr>\n",
       "    <tr>\n",
       "      <th>3</th>\n",
       "      <td>November 20th, 2017</td>\n",
       "      <td>34706.708057</td>\n",
       "    </tr>\n",
       "    <tr>\n",
       "      <th>4</th>\n",
       "      <td>February 20th, 2018</td>\n",
       "      <td>38800.091179</td>\n",
       "    </tr>\n",
       "    <tr>\n",
       "      <th>5</th>\n",
       "      <td>May 21st, 2018</td>\n",
       "      <td>41202.382132</td>\n",
       "    </tr>\n",
       "    <tr>\n",
       "      <th>6</th>\n",
       "      <td>August 20th, 2018</td>\n",
       "      <td>45443.500812</td>\n",
       "    </tr>\n",
       "    <tr>\n",
       "      <th>7</th>\n",
       "      <td>November 20th, 2018</td>\n",
       "      <td>47887.175212</td>\n",
       "    </tr>\n",
       "    <tr>\n",
       "      <th>8</th>\n",
       "      <td>February 20th, 2019</td>\n",
       "      <td>48748.063925</td>\n",
       "    </tr>\n",
       "    <tr>\n",
       "      <th>9</th>\n",
       "      <td>May 20th, 2019</td>\n",
       "      <td>49579.918507</td>\n",
       "    </tr>\n",
       "    <tr>\n",
       "      <th>10</th>\n",
       "      <td>August 20th, 2019</td>\n",
       "      <td>53922.123351</td>\n",
       "    </tr>\n",
       "  </tbody>\n",
       "</table>\n",
       "</div>"
      ],
      "text/plain": [
       "                   Date        Amount\n",
       "1        May 22nd, 2017  26308.250000\n",
       "2     August 21st, 2017  32173.569585\n",
       "3   November 20th, 2017  34706.708057\n",
       "4   February 20th, 2018  38800.091179\n",
       "5        May 21st, 2018  41202.382132\n",
       "6     August 20th, 2018  45443.500812\n",
       "7   November 20th, 2018  47887.175212\n",
       "8   February 20th, 2019  48748.063925\n",
       "9        May 20th, 2019  49579.918507\n",
       "10    August 20th, 2019  53922.123351"
      ]
     },
     "execution_count": 50,
     "metadata": {},
     "output_type": "execute_result"
    }
   ],
   "source": [
    "# Here are the first ten...\n",
    "pd.DataFrame([(cf.date(), cf.amount()) for cf in irs3_2.leg(1)],\n",
    "            columns = [\"Date\", \"Amount\"],\n",
    "            index = range(1, len(irs3_2.leg(1))+1)).head(10)"
   ]
  },
  {
   "cell_type": "markdown",
   "metadata": {},
   "source": [
    "The difference in the forecasts (which are small) does not drive the different valuations, however. Of more importance is the significant difference between Libor discounting curve and the OIS discounting curve. "
   ]
  },
  {
   "cell_type": "markdown",
   "metadata": {},
   "source": [
    "I do not see where i gave the 2017-02-17 forecast to swap_float_index2!!! Why does this even work!!! Since i never game swap_float_index2 that fixing, it seems like this should raise an error!"
   ]
  },
  {
   "cell_type": "code",
   "execution_count": 51,
   "metadata": {},
   "outputs": [
    {
     "name": "stdout",
     "output_type": "stream",
     "text": [
      "Net Present Value   :           620805.428\n",
      "Fair Spread         :               -0.007\n",
      "Fair Rate           :                0.024\n",
      "Fixed Leg BPS       :            -8291.254\n",
      "Floating Leg BPS    :             8432.135\n"
     ]
    }
   ],
   "source": [
    "irs3_2.setPricingEngine(ois_pricing_engine)\n",
    "print(\"%-20s: %20.3f\" % (\"Net Present Value\", irs3_2.NPV()))\n",
    "print(\"%-20s: %20.3f\" % (\"Fair Spread\", irs3_2.fairSpread()))\n",
    "print(\"%-20s: %20.3f\" % (\"Fair Rate\", irs3_2.fairRate()))\n",
    "print(\"%-20s: %20.3f\" % (\"Fixed Leg BPS\", irs3_2.fixedLegBPS()))\n",
    "print(\"%-20s: %20.3f\" % (\"Floating Leg BPS\", irs3_2.floatingLegBPS()))"
   ]
  },
  {
   "cell_type": "code",
   "execution_count": 52,
   "metadata": {},
   "outputs": [
    {
     "name": "stdout",
     "output_type": "stream",
     "text": [
      "The price difference induced by OIS discounting is 10318.383.\n"
     ]
    }
   ],
   "source": [
    "print(\"The price difference induced by OIS discounting is %0.3f.\" % (irs3_2.NPV()-irs3_1.NPV()))"
   ]
  },
  {
   "cell_type": "code",
   "execution_count": null,
   "metadata": {
    "collapsed": true
   },
   "outputs": [],
   "source": []
  },
  {
   "cell_type": "code",
   "execution_count": null,
   "metadata": {
    "collapsed": true
   },
   "outputs": [],
   "source": []
  },
  {
   "cell_type": "code",
   "execution_count": null,
   "metadata": {
    "collapsed": true
   },
   "outputs": [],
   "source": []
  },
  {
   "cell_type": "code",
   "execution_count": 53,
   "metadata": {},
   "outputs": [
    {
     "ename": "TypeError",
     "evalue": "exceptions must derive from BaseException",
     "output_type": "error",
     "traceback": [
      "\u001b[0;31m---------------------------------------------------------------------------\u001b[0m",
      "\u001b[0;31mTypeError\u001b[0m                                 Traceback (most recent call last)",
      "\u001b[0;32m<ipython-input-53-cafa3094baca>\u001b[0m in \u001b[0;36m<module>\u001b[0;34m()\u001b[0m\n\u001b[0;32m----> 1\u001b[0;31m \u001b[1;32mraise\u001b[0m\u001b[1;33m(\u001b[0m\u001b[1;34m'**** working here!!! ****'\u001b[0m\u001b[1;33m)\u001b[0m\u001b[1;33m\u001b[0m\u001b[0m\n\u001b[0m",
      "\u001b[0;31mTypeError\u001b[0m: exceptions must derive from BaseException"
     ]
    }
   ],
   "source": [
    "raise('**** working here!!! ****')"
   ]
  },
  {
   "cell_type": "code",
   "execution_count": null,
   "metadata": {
    "collapsed": true
   },
   "outputs": [],
   "source": []
  }
 ],
 "metadata": {
  "kernelspec": {
   "display_name": "Python 3",
   "language": "python",
   "name": "python3"
  },
  "language_info": {
   "codemirror_mode": {
    "name": "ipython",
    "version": 3
   },
   "file_extension": ".py",
   "mimetype": "text/x-python",
   "name": "python",
   "nbconvert_exporter": "python",
   "pygments_lexer": "ipython3",
   "version": "3.6.8"
  }
 },
 "nbformat": 4,
 "nbformat_minor": 2
}
